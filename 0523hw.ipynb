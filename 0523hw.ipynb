{
  "cells": [
    {
      "cell_type": "code",
      "execution_count": 10,
      "metadata": {
        "colab": {
          "base_uri": "https://localhost:8080/"
        },
        "id": "uRoU6hpaSvOF",
        "outputId": "b381ff59-b511-4f93-e25b-09ed10cdc26e"
      },
      "outputs": [
        {
          "name": "stdout",
          "output_type": "stream",
          "text": [
            "                    g         a         t        tg        cp  Growth Rate  \\\n",
            "countrycode                                                                  \n",
            "CAN          0.320693  0.387918  0.612082  0.126036  0.194657     0.320693   \n",
            "DEU          0.595897  0.384552  0.615448  0.236193  0.359704     0.595897   \n",
            "FRA          0.645835  0.377839  0.622161  0.245273  0.400562     0.645835   \n",
            "GBR          0.819356  0.375162  0.624838  0.304914  0.514442     0.819356   \n",
            "ITA         -0.352076  0.470552  0.529448 -0.164108 -0.187968    -0.352076   \n",
            "JPN          0.752177  0.392263  0.607737  0.298244  0.453933     0.752177   \n",
            "USA          1.256881  0.387017  0.612983  0.484742  0.772139     1.256881   \n",
            "\n",
            "             Capital Share  TFP Share  TFP Grows  Capital Deeping  \n",
            "countrycode                                                        \n",
            "CAN               0.387918   0.612082   0.126036         0.194657  \n",
            "DEU               0.384552   0.615448   0.236193         0.359704  \n",
            "FRA               0.377839   0.622161   0.245273         0.400562  \n",
            "GBR               0.375162   0.624838   0.304914         0.514442  \n",
            "ITA               0.470552   0.529448  -0.164108        -0.187968  \n",
            "JPN               0.392263   0.607737   0.298244         0.453933  \n",
            "USA               0.387017   0.612983   0.484742         0.772139  \n"
          ]
        }
      ],
      "source": [
        "import pandas as pd\n",
        "import numpy as np\n",
        "\n",
        "\n",
        "# Load data\n",
        "pwt90 = pd.read_stata('https://www.rug.nl/ggdc/docs/pwt90.dta')\n",
        "pwt1001 = pd.read_stata('https://dataverse.nl/api/access/datafile/354098')\n",
        "\n",
        "# Filter and select relevant columns\n",
        "data = pwt1001.loc[pwt1001['country'].isin([\"France\", \"Germany\", \"Canada\", \"Italy\", \"Japan\", \"United Kingdom\", \"United States\"])][['year', 'countrycode', 'rgdpna', 'rkna', 'emp', 'labsh']]\n",
        "data = data.loc[(data['year'] >= 2000) & (data['year'] <= 2015)].dropna()\n",
        "\n",
        "# Calculate additional columns\n",
        "data['y_pc'] = np.log(data['rgdpna'] / data['emp'])  # GDP per worker\n",
        "data['k_pc'] = np.log(data['rkna'] / data['emp'])  # Capital per worker\n",
        "data['a'] = 1 - data['labsh']  # Capital share\n",
        "data['t']=data['labsh']\n",
        "\n",
        "\n",
        "# Order by year\n",
        "data = data.sort_values('year')\n",
        "\n",
        "# Group by isocode\n",
        "grouped_data = data.groupby('countrycode')\n",
        "\n",
        "# Calculate growth rates and Solow residual\n",
        "data['g'] = (grouped_data['y_pc'].diff() * 100)  # Growth rate of GDP per capita\n",
        "data['tg']=data['g']*data['a']\n",
        "data['cp']=data['g']-data['tg']\n",
        "\n",
        "# Remove missing values\n",
        "data = data.dropna()\n",
        "\n",
        "# Calculate summary statistics\n",
        "summary = data.groupby('countrycode').agg({'g': 'mean',\n",
        "                                       'a': \"mean\",\n",
        "                                      't': \"mean\",\n",
        "                                      'tg':\"mean\",\n",
        "                                      'cp':\"mean\",})\n",
        "\n",
        "# Calculate additional summary statistics\n",
        "summary['Growth Rate'] = summary['g']\n",
        "summary['Capital Share'] = summary['a']\n",
        "summary['TFP Share']=summary['t']\n",
        "summary['TFP Grows']=summary['tg']\n",
        "summary['Capital Deeping']=summary['cp']\n",
        "\n",
        "# Print output\n",
        "print(summary)"
      ]
    }
  ],
  "metadata": {
    "colab": {
      "provenance": []
    },
    "kernelspec": {
      "display_name": "Python 3",
      "name": "python3"
    },
    "language_info": {
      "name": "python"
    }
  },
  "nbformat": 4,
  "nbformat_minor": 0
}
